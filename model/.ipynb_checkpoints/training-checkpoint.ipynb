{
 "cells": [
  {
   "cell_type": "code",
   "execution_count": 53,
   "id": "f3b3e4d0-dfb0-4a0a-839f-e4bac83ac725",
   "metadata": {},
   "outputs": [],
   "source": [
    "#import libraries\n",
    "import sys\n",
    "import os\n",
    "import numpy as np\n",
    "import pandas as pd\n",
    "\n",
    "from imblearn.pipeline import make_pipeline\n",
    "from sklearn.pipeline import Pipeline\n",
    "from sklearn import preprocessing\n",
    "from imblearn.over_sampling import SMOTE, RandomOverSampler\n",
    "from imblearn.under_sampling import RandomUnderSampler\n",
    "from collections import Counter\n",
    "from sklearn.preprocessing import OneHotEncoder, RobustScaler, MinMaxScaler\n",
    "from sklearn.preprocessing import LabelEncoder\n",
    "from sklearn.compose import ColumnTransformer\n",
    "from sklearn import metrics\n",
    "from sklearn.metrics import confusion_matrix, classification_report, mean_squared_error, f1_score\n",
    "from sklearn.linear_model import LogisticRegression\n",
    "from sklearn.neighbors import KNeighborsClassifier\n",
    "from sklearn.ensemble import RandomForestClassifier\n",
    "from sklearn.multioutput import MultiOutputClassifier\n",
    "import xgboost as xgb\n",
    "from xgboost import XGBClassifier\n",
    "#import lightgbm as lgbm\n",
    "from sklearn.naive_bayes import GaussianNB\n",
    "from sklearn.model_selection import train_test_split, GridSearchCV, cross_val_score\n",
    "from sklearn.base import BaseEstimator, TransformerMixin\n",
    "from sklearn.utils.multiclass import type_of_target\n",
    "from math import sqrt\n",
    "\n",
    "import optuna\n",
    "from optuna.visualization import plot_contour\n",
    "from optuna.visualization import plot_edf\n",
    "from optuna.visualization import plot_intermediate_values\n",
    "from optuna.visualization import plot_optimization_history\n",
    "from optuna.visualization import plot_parallel_coordinate\n",
    "from optuna.visualization import plot_param_importances\n",
    "from optuna.visualization import plot_slice\n",
    "optuna.logging.set_verbosity(optuna.logging.WARNING)\n",
    "\n",
    "from sklearn.utils import resample\n",
    "from sklearn.model_selection import StratifiedShuffleSplit\n",
    "from sklearn.model_selection import GridSearchCV\n",
    "from sklearn.model_selection import StratifiedKFold, KFold\n",
    "from sklearn.feature_selection import SelectFromModel\n",
    "\n",
    "import matplotlib.pyplot as plt\n",
    "%matplotlib inline\n",
    "from matplotlib.ticker import PercentFormatter\n",
    "import matplotlib.ticker as mtick\n",
    "import seaborn as sns\n",
    "\n",
    "sys.path.append('/Users/bethbarlow/Documents/Nanodegree/udacity_ds_nanodegree_capstone')\n",
    "\n",
    "from utils.helpers import fit_model_get_predictions, objective, plot_feature_importances\n",
    "\n",
    "pd.set_option('display.max_columns', None) \n",
    "pd.set_option('display.max_rows', None)  \n",
    "pd.set_option('display.max_colwidth', None) "
   ]
  },
  {
   "cell_type": "code",
   "execution_count": 55,
   "id": "7f3b53bf-0d89-4471-8db2-e29d22bc788e",
   "metadata": {},
   "outputs": [],
   "source": [
    "# Load data\n",
    "df = pd.read_csv('/Users/bethbarlow/Documents/Nanodegree/udacity_ds_nanodegree_capstone/data/data_preproc.csv')\n",
    "\n",
    "# Remove unnamed columns\n",
    "df.drop(columns = 'Unnamed: 0', inplace = True)"
   ]
  },
  {
   "cell_type": "code",
   "execution_count": 46,
   "id": "baa4483d-ea39-4bf4-9a97-683295b2e2a7",
   "metadata": {},
   "outputs": [],
   "source": [
    "# Apply label encoding to categorical variables  \n",
    "\n",
    "le = preprocessing.LabelEncoder()\n",
    "le.fit(df.Sector)\n",
    "df.Sector = le.transform(df.Sector) # encode sector\n",
    "le.fit(df.Rating)\n",
    "df.Rating = le.transform(df.Rating) # encode rating\n",
    "le.fit(df['Rating Agency Name'])\n",
    "df['Rating Agency Name'] = le.transform(df['Rating Agency Name']) # encode rating agency name"
   ]
  },
  {
   "cell_type": "code",
   "execution_count": 47,
   "id": "a58491cd-faef-4ce5-b41f-692a1757d4a7",
   "metadata": {},
   "outputs": [],
   "source": [
    "# Define target and response variables\n",
    "X = df.iloc[:, 1:]\n",
    "y = df.iloc[:, 0]"
   ]
  },
  {
   "cell_type": "code",
   "execution_count": 56,
   "id": "1b8ab2d2-f1d0-476a-a212-db8871af82f8",
   "metadata": {},
   "outputs": [
    {
     "name": "stdout",
     "output_type": "stream",
     "text": [
      "Class=0, n=398 (19.645%)\n",
      "Class=4, n=670 (33.070%)\n",
      "Class=1, n=94 (4.640%)\n",
      "Class=3, n=490 (24.186%)\n",
      "Class=2, n=302 (14.906%)\n",
      "Class=5, n=72 (3.554%)\n"
     ]
    },
    {
     "data": {
      "image/png": "[encoded data removed]",
      "text/plain": [
       "<Figure size 432x288 with 1 Axes>"
      ]
     },
     "metadata": {
      "needs_background": "light"
     },
     "output_type": "display_data"
    }
   ],
   "source": [
    "# Summarize distribution to check for imbalance\n",
    "counter = Counter(y)\n",
    "for k,v in counter.items():\n",
    "    per = v / len(y) * 100\n",
    "    print('Class=%d, n=%d (%.3f%%)' % (k, v, per))\n",
    "    \n",
    "# Plot the distribution\n",
    "plt.bar(counter.keys(), counter.values())\n",
    "plt.show()"
   ]
  },
  {
   "cell_type": "code",
   "execution_count": 57,
   "id": "14e50fb2-5a9a-4d86-bbf6-01c1cf048739",
   "metadata": {},
   "outputs": [
    {
     "ename": "KeyError",
     "evalue": "\"None of [Index(['Rating Agency Name', 'Sector'], dtype='object')] are in the [columns]\"",
     "output_type": "error",
     "traceback": [
      "\u001b[0;31m---------------------------------------------------------------------------\u001b[0m",
      "\u001b[0;31mKeyError\u001b[0m                                  Traceback (most recent call last)",
      "\u001b[0;32m/var/folders/pp/yp7ffdpd6x98ps00y1b42jjm0000gn/T/ipykernel_71833/59370439.py\u001b[0m in \u001b[0;36m<module>\u001b[0;34m\u001b[0m\n\u001b[1;32m      5\u001b[0m \u001b[0;31m# One-hot encoding of categorical variables\u001b[0m\u001b[0;34m\u001b[0m\u001b[0;34m\u001b[0m\u001b[0m\n\u001b[1;32m      6\u001b[0m \u001b[0mencoder\u001b[0m \u001b[0;34m=\u001b[0m \u001b[0mOneHotEncoder\u001b[0m\u001b[0;34m(\u001b[0m\u001b[0mhandle_unknown\u001b[0m \u001b[0;34m=\u001b[0m \u001b[0;34m'ignore'\u001b[0m\u001b[0;34m)\u001b[0m\u001b[0;34m\u001b[0m\u001b[0;34m\u001b[0m\u001b[0m\n\u001b[0;32m----> 7\u001b[0;31m \u001b[0mX_encoded\u001b[0m \u001b[0;34m=\u001b[0m \u001b[0mpd\u001b[0m\u001b[0;34m.\u001b[0m\u001b[0mDataFrame\u001b[0m\u001b[0;34m(\u001b[0m\u001b[0mencoder\u001b[0m\u001b[0;34m.\u001b[0m\u001b[0mfit_transform\u001b[0m\u001b[0;34m(\u001b[0m\u001b[0mX\u001b[0m\u001b[0;34m[\u001b[0m\u001b[0mcategorical_ix\u001b[0m\u001b[0;34m]\u001b[0m\u001b[0;34m)\u001b[0m\u001b[0;34m.\u001b[0m\u001b[0mtoarray\u001b[0m\u001b[0;34m(\u001b[0m\u001b[0;34m)\u001b[0m\u001b[0;34m)\u001b[0m\u001b[0;34m\u001b[0m\u001b[0;34m\u001b[0m\u001b[0m\n\u001b[0m\u001b[1;32m      8\u001b[0m \u001b[0mX_encoded\u001b[0m\u001b[0;34m.\u001b[0m\u001b[0mcolumns\u001b[0m \u001b[0;34m=\u001b[0m \u001b[0mencoder\u001b[0m\u001b[0;34m.\u001b[0m\u001b[0mget_feature_names_out\u001b[0m\u001b[0;34m(\u001b[0m\u001b[0mcategorical_ix\u001b[0m\u001b[0;34m)\u001b[0m\u001b[0;34m\u001b[0m\u001b[0;34m\u001b[0m\u001b[0m\n\u001b[1;32m      9\u001b[0m \u001b[0mX\u001b[0m \u001b[0;34m=\u001b[0m \u001b[0mX\u001b[0m\u001b[0;34m.\u001b[0m\u001b[0mjoin\u001b[0m\u001b[0;34m(\u001b[0m\u001b[0mX_encoded\u001b[0m\u001b[0;34m)\u001b[0m\u001b[0;34m\u001b[0m\u001b[0;34m\u001b[0m\u001b[0m\n",
      "\u001b[0;32m~/opt/anaconda3/lib/python3.9/site-packages/pandas/core/frame.py\u001b[0m in \u001b[0;36m__getitem__\u001b[0;34m(self, key)\u001b[0m\n\u001b[1;32m   3462\u001b[0m             \u001b[0;32mif\u001b[0m \u001b[0mis_iterator\u001b[0m\u001b[0;34m(\u001b[0m\u001b[0mkey\u001b[0m\u001b[0;34m)\u001b[0m\u001b[0;34m:\u001b[0m\u001b[0;34m\u001b[0m\u001b[0;34m\u001b[0m\u001b[0m\n\u001b[1;32m   3463\u001b[0m                 \u001b[0mkey\u001b[0m \u001b[0;34m=\u001b[0m \u001b[0mlist\u001b[0m\u001b[0;34m(\u001b[0m\u001b[0mkey\u001b[0m\u001b[0;34m)\u001b[0m\u001b[0;34m\u001b[0m\u001b[0;34m\u001b[0m\u001b[0m\n\u001b[0;32m-> 3464\u001b[0;31m             \u001b[0mindexer\u001b[0m \u001b[0;34m=\u001b[0m \u001b[0mself\u001b[0m\u001b[0;34m.\u001b[0m\u001b[0mloc\u001b[0m\u001b[0;34m.\u001b[0m\u001b[0m_get_listlike_indexer\u001b[0m\u001b[0;34m(\u001b[0m\u001b[0mkey\u001b[0m\u001b[0;34m,\u001b[0m \u001b[0maxis\u001b[0m\u001b[0;34m=\u001b[0m\u001b[0;36m1\u001b[0m\u001b[0;34m)\u001b[0m\u001b[0;34m[\u001b[0m\u001b[0;36m1\u001b[0m\u001b[0;34m]\u001b[0m\u001b[0;34m\u001b[0m\u001b[0;34m\u001b[0m\u001b[0m\n\u001b[0m\u001b[1;32m   3465\u001b[0m \u001b[0;34m\u001b[0m\u001b[0m\n\u001b[1;32m   3466\u001b[0m         \u001b[0;31m# take() does not accept boolean indexers\u001b[0m\u001b[0;34m\u001b[0m\u001b[0;34m\u001b[0m\u001b[0m\n",
      "\u001b[0;32m~/opt/anaconda3/lib/python3.9/site-packages/pandas/core/indexing.py\u001b[0m in \u001b[0;36m_get_listlike_indexer\u001b[0;34m(self, key, axis)\u001b[0m\n\u001b[1;32m   1312\u001b[0m             \u001b[0mkeyarr\u001b[0m\u001b[0;34m,\u001b[0m \u001b[0mindexer\u001b[0m\u001b[0;34m,\u001b[0m \u001b[0mnew_indexer\u001b[0m \u001b[0;34m=\u001b[0m \u001b[0max\u001b[0m\u001b[0;34m.\u001b[0m\u001b[0m_reindex_non_unique\u001b[0m\u001b[0;34m(\u001b[0m\u001b[0mkeyarr\u001b[0m\u001b[0;34m)\u001b[0m\u001b[0;34m\u001b[0m\u001b[0;34m\u001b[0m\u001b[0m\n\u001b[1;32m   1313\u001b[0m \u001b[0;34m\u001b[0m\u001b[0m\n\u001b[0;32m-> 1314\u001b[0;31m         \u001b[0mself\u001b[0m\u001b[0;34m.\u001b[0m\u001b[0m_validate_read_indexer\u001b[0m\u001b[0;34m(\u001b[0m\u001b[0mkeyarr\u001b[0m\u001b[0;34m,\u001b[0m \u001b[0mindexer\u001b[0m\u001b[0;34m,\u001b[0m \u001b[0maxis\u001b[0m\u001b[0;34m)\u001b[0m\u001b[0;34m\u001b[0m\u001b[0;34m\u001b[0m\u001b[0m\n\u001b[0m\u001b[1;32m   1315\u001b[0m \u001b[0;34m\u001b[0m\u001b[0m\n\u001b[1;32m   1316\u001b[0m         if needs_i8_conversion(ax.dtype) or isinstance(\n",
      "\u001b[0;32m~/opt/anaconda3/lib/python3.9/site-packages/pandas/core/indexing.py\u001b[0m in \u001b[0;36m_validate_read_indexer\u001b[0;34m(self, key, indexer, axis)\u001b[0m\n\u001b[1;32m   1372\u001b[0m                 \u001b[0;32mif\u001b[0m \u001b[0muse_interval_msg\u001b[0m\u001b[0;34m:\u001b[0m\u001b[0;34m\u001b[0m\u001b[0;34m\u001b[0m\u001b[0m\n\u001b[1;32m   1373\u001b[0m                     \u001b[0mkey\u001b[0m \u001b[0;34m=\u001b[0m \u001b[0mlist\u001b[0m\u001b[0;34m(\u001b[0m\u001b[0mkey\u001b[0m\u001b[0;34m)\u001b[0m\u001b[0;34m\u001b[0m\u001b[0;34m\u001b[0m\u001b[0m\n\u001b[0;32m-> 1374\u001b[0;31m                 \u001b[0;32mraise\u001b[0m \u001b[0mKeyError\u001b[0m\u001b[0;34m(\u001b[0m\u001b[0;34mf\"None of [{key}] are in the [{axis_name}]\"\u001b[0m\u001b[0;34m)\u001b[0m\u001b[0;34m\u001b[0m\u001b[0;34m\u001b[0m\u001b[0m\n\u001b[0m\u001b[1;32m   1375\u001b[0m \u001b[0;34m\u001b[0m\u001b[0m\n\u001b[1;32m   1376\u001b[0m             \u001b[0mnot_found\u001b[0m \u001b[0;34m=\u001b[0m \u001b[0mlist\u001b[0m\u001b[0;34m(\u001b[0m\u001b[0mensure_index\u001b[0m\u001b[0;34m(\u001b[0m\u001b[0mkey\u001b[0m\u001b[0;34m)\u001b[0m\u001b[0;34m[\u001b[0m\u001b[0mmissing_mask\u001b[0m\u001b[0;34m.\u001b[0m\u001b[0mnonzero\u001b[0m\u001b[0;34m(\u001b[0m\u001b[0;34m)\u001b[0m\u001b[0;34m[\u001b[0m\u001b[0;36m0\u001b[0m\u001b[0;34m]\u001b[0m\u001b[0;34m]\u001b[0m\u001b[0;34m.\u001b[0m\u001b[0munique\u001b[0m\u001b[0;34m(\u001b[0m\u001b[0;34m)\u001b[0m\u001b[0;34m)\u001b[0m\u001b[0;34m\u001b[0m\u001b[0;34m\u001b[0m\u001b[0m\n",
      "\u001b[0;31mKeyError\u001b[0m: \"None of [Index(['Rating Agency Name', 'Sector'], dtype='object')] are in the [columns]\""
     ]
    }
   ],
   "source": [
    "# Define numerical and categorical columns\n",
    "numerical_ix = df.iloc[:, 3:23].columns.tolist()\n",
    "categorical_ix = ['Rating Agency Name', 'Sector']\n",
    "\n",
    "# One-hot encoding of categorical variables\n",
    "encoder = OneHotEncoder(handle_unknown = 'ignore')\n",
    "X_encoded = pd.DataFrame(encoder.fit_transform(X[categorical_ix]).toarray())\n",
    "X_encoded.columns = encoder.get_feature_names_out(categorical_ix)\n",
    "X = X.join(X_encoded)\n",
    "X.drop(columns = categorical_ix, axis = 1, inplace = True)"
   ]
  },
  {
   "cell_type": "code",
   "execution_count": 52,
   "id": "2879f6cc-7c7d-434f-a7d1-6978c7876661",
   "metadata": {},
   "outputs": [],
   "source": [
    "# Define train and test sets\n",
    "X_train, X_test, y_train, y_test = train_test_split(X, y, test_size = 1/5)\n",
    "\n",
    "# Scale numerical features\n",
    "scaler = MinMaxScaler()\n",
    "X_train[numerical_ix] = scaler.fit_transform(X_train[numerical_ix]) # check - do you scale cyclical variables?\n",
    "X_test[numerical_ix] = scaler.transform(X_test[numerical_ix])\n",
    "\n",
    "# Split train set into train and validation\n",
    "X_train, X_val, y_train, y_val = train_test_split(X_train, y_train, test_size = 1/5)\n",
    "\n",
    "X_train.shape, X_val.shape, X_test.shape"
   ]
  },
  {
   "cell_type": "markdown",
   "id": "1b0fbada-41db-4654-9f91-17016b9b51c2",
   "metadata": {},
   "source": [
    "### Fit Models"
   ]
  },
  {
   "cell_type": "code",
   "execution_count": 23,
   "id": "d7dc3d03-6d1a-4ea2-b6dd-180a065a1e26",
   "metadata": {},
   "outputs": [],
   "source": [
    "# Define features list\n",
    "features = X.columns.tolist()"
   ]
  },
  {
   "cell_type": "code",
   "execution_count": 24,
   "id": "f15d5850-808a-40b2-b9c1-8bf7bb1da24e",
   "metadata": {},
   "outputs": [
    {
     "data": {
      "text/plain": [
       "{'classifier': LogisticRegression(max_iter=1000, multi_class='multinomial'),\n",
       " 'train_f1': 0.3860024038682445,\n",
       " 'val_f1': 0.3731148276656803,\n",
       " 'training_execution_time': 0.0,\n",
       " 'prediction_execution_time': 0.0}"
      ]
     },
     "execution_count": 24,
     "metadata": {},
     "output_type": "execute_result"
    }
   ],
   "source": [
    "# Fit multinomial logistic regression model\n",
    "lr = LogisticRegression(multi_class='multinomial', solver='lbfgs', max_iter = 1000)\n",
    "\n",
    "lr_results = fit_model_get_predictions(lr, features)\n",
    "lr_results"
   ]
  },
  {
   "cell_type": "code",
   "execution_count": 30,
   "id": "6e670ac2-6f4f-42f3-a2e5-30d09f9a0aa2",
   "metadata": {},
   "outputs": [
    {
     "data": {
      "text/plain": [
       "{'classifier': RandomForestClassifier(criterion='entropy', n_estimators=10, random_state=42),\n",
       " 'train_f1': 0.9907456818806734,\n",
       " 'val_f1': 0.4908545381786499,\n",
       " 'training_execution_time': 0.0,\n",
       " 'prediction_execution_time': 0.0}"
      ]
     },
     "execution_count": 30,
     "metadata": {},
     "output_type": "execute_result"
    }
   ],
   "source": [
    "# Fit Random Forest model\n",
    "rf = RandomForestClassifier(n_estimators = 10, criterion = 'entropy', random_state = 42)\n",
    "rf_results = fit_model_get_predictions(rf, features)\n",
    "rf_results"
   ]
  },
  {
   "cell_type": "code",
   "execution_count": 31,
   "id": "b70b10f5-1de9-4d88-b14f-845dd82aac88",
   "metadata": {},
   "outputs": [
    {
     "data": {
      "text/plain": [
       "{'classifier': KNeighborsClassifier(),\n",
       " 'train_f1': 0.5242042809817,\n",
       " 'val_f1': 0.3847901087590057,\n",
       " 'training_execution_time': 0.0,\n",
       " 'prediction_execution_time': 0.0}"
      ]
     },
     "execution_count": 31,
     "metadata": {},
     "output_type": "execute_result"
    }
   ],
   "source": [
    "# Fit K Nearest Neighbours model\n",
    "knn = KNeighborsClassifier()\n",
    "knn_results = fit_model_get_predictions(knn, features)\n",
    "knn_results"
   ]
  },
  {
   "cell_type": "code",
   "execution_count": 32,
   "id": "016f7719-f3cc-445b-a614-569b6290b184",
   "metadata": {},
   "outputs": [
    {
     "data": {
      "text/plain": [
       "{'classifier': GaussianNB(),\n",
       " 'train_f1': 0.13448809908475834,\n",
       " 'val_f1': 0.09599853877084695,\n",
       " 'training_execution_time': 0.0,\n",
       " 'prediction_execution_time': 0.0}"
      ]
     },
     "execution_count": 32,
     "metadata": {},
     "output_type": "execute_result"
    }
   ],
   "source": [
    "# Fit Naive Bayes model\n",
    "gnb = GaussianNB()\n",
    "\n",
    "gnb_results = fit_model_get_predictions(gnb, features)\n",
    "gnb_results"
   ]
  },
  {
   "cell_type": "code",
   "execution_count": 33,
   "id": "1fe44e0d-1e89-4a48-aeaf-5c02bc150b5f",
   "metadata": {},
   "outputs": [
    {
     "data": {
      "text/plain": [
       "{'classifier': XGBClassifier(base_score=None, booster=None, callbacks=None,\n",
       "               colsample_bylevel=None, colsample_bynode=None,\n",
       "               colsample_bytree=None, early_stopping_rounds=None,\n",
       "               enable_categorical=False, eval_metric=None, feature_types=None,\n",
       "               gamma=None, gpu_id=None, grow_policy=None, importance_type=None,\n",
       "               interaction_constraints=None, learning_rate=None, max_bin=None,\n",
       "               max_cat_threshold=None, max_cat_to_onehot=None,\n",
       "               max_delta_step=None, max_depth=None, max_leaves=None,\n",
       "               min_child_weight=None, missing=nan, monotone_constraints=None,\n",
       "               n_estimators=100, n_jobs=None, num_parallel_tree=None,\n",
       "               objective='multi:softprob', predictor=None, ...),\n",
       " 'train_f1': 1.0,\n",
       " 'val_f1': 0.5543219885379586,\n",
       " 'training_execution_time': 3.0,\n",
       " 'prediction_execution_time': 0.0}"
      ]
     },
     "execution_count": 33,
     "metadata": {},
     "output_type": "execute_result"
    }
   ],
   "source": [
    "# Fit XGBoost model \n",
    "xgb = XGBClassifier()\n",
    "xgb_results = fit_model_get_predictions(xgb, features)\n",
    "xgb_results"
   ]
  },
  {
   "cell_type": "code",
   "execution_count": 34,
   "id": "42ef91e3-36b2-463a-9393-220f3c3d674e",
   "metadata": {},
   "outputs": [],
   "source": [
    "# Get f1 scores from each fitted model and plot\n",
    "val_f1_list = [lr_results['val_f1'], rf_results['val_f1'], knn_results['val_f1'], gnb_results['val_f1'], xgb_results['val_f1']]\n",
    "\n",
    "model_list = ['Multinomial Logistic Regression', 'Random Forest','KNN', 'Naive Bayes', 'XGBoost']\n",
    "\n",
    "df_f1 = pd.DataFrame({'Model': model_list, 'F1 Score': val_f1_list})\n",
    "\n",
    "order = list(df_f1.sort_values('F1 Score', ascending=False).Model)\n",
    "df_f1 = df_f1.sort_values('F1 Score', ascending=False).reset_index().drop(['index'], axis=1)\n",
    "\n",
    "plt.figure(figsize=(12,8))\n",
    "# make barplot and sort bars\n",
    "x = sns.barplot(x='Model', y=\"F1 Score\", data=df_f1, order = order, palette=\"rocket\")\n",
    "plt.xlabel(\"Model\", fontsize=20)\n",
    "plt.ylabel(\"F1 Score\", fontsize=20)\n",
    "plt.title(\"F1 Score by Model\", fontsize=20)\n",
    "plt.grid(linestyle='-', linewidth='0.5', color='grey')\n",
    "plt.xticks(rotation=70, fontsize=12)\n",
    "plt.ylim(0,1)\n",
    "plt.gca().yaxis.set_major_formatter(mtick.PercentFormatter(1))\n",
    "\n",
    "for i in range(len(model_list)):\n",
    "    plt.text(x = i, y = df_f1.loc[i, 'F1 Score'] + 0.05, s = str(round((df_f1.loc[i, 'F1 Score'])*100, 2))+'%', \n",
    "             fontsize = 14, color='black',horizontalalignment='center')\n",
    "\n",
    "plt.tight_layout()"
   ]
  },
  {
   "cell_type": "markdown",
   "id": "b25619c5-1022-4ca1-91f7-dfdc69fa577f",
   "metadata": {},
   "source": [
    "### Hyperparameter tuning on validation set"
   ]
  },
  {
   "cell_type": "code",
   "execution_count": 37,
   "id": "ebc21c1a-4df8-4551-b282-b95a84c96a04",
   "metadata": {},
   "outputs": [
    {
     "name": "stdout",
     "output_type": "stream",
     "text": [
      "CPU times: user 3 µs, sys: 1e+03 ns, total: 4 µs\n",
      "Wall time: 7.15 µs\n"
     ]
    }
   ],
   "source": [
    "# Initialise\n",
    "%time\n",
    "val_df = pd.concat([y_val, X_val], axis = 1)\n",
    "cv_results = {}\n",
    "confusion_matrix_plots = []\n",
    "scores = {\"AUC\" : []}\n",
    "models = {}\n",
    "seed = 1\n",
    "sampler_type = \"RandomUnderSampler\""
   ]
  },
  {
   "cell_type": "code",
   "execution_count": null,
   "id": "b0e58414-f026-4c87-8f4c-aea86a8eefc6",
   "metadata": {},
   "outputs": [],
   "source": [
    "# Initialise\n",
    "start_time = time.time()\n",
    "sampler_types = [\"RandomUnderSampler\", \"RandomOverSampler\", \"SMOTE\"]\n",
    "optim_results = {}\n",
    "best_params = {}\n",
    "sampling_folds = 3\n",
    "n_trials = 30\n",
    "        \n",
    "# Loop over sampling types:\n",
    "for sampler_type in sampler_types:\n",
    "\n",
    "    # Optimise parameters for all three samplers\n",
    "    study = optuna.create_study(direction = 'maximize')\n",
    "\n",
    "    # Get a new sample after n trials are completed and repeat for n folds\n",
    "    for i in range(sampling_folds):\n",
    "\n",
    "        # Define sampler\n",
    "        sampler = eval(sampler_type)()\n",
    "\n",
    "        # Get a new sample\n",
    "        X_train_res, y_train_res = sampler.fit_resample(X_train, y_train)\n",
    "\n",
    "        study.optimize(objective, n_trials = n_trials)\n",
    "        \n",
    "        best_params = study.best_params\n",
    "        best_score = study.best_value\n",
    "        print(f\"Sampler: {sampler_type}\\n\")\n",
    "        print(f\"Best score: {best_score}\\n\")\n",
    "        print(f\"Optimized parameters: {best_params}\\n\")\n",
    "\n",
    "    print(\"Number of finished trials:\", len(study.trials))\n",
    "\n",
    "    trial = study.best_trial\n",
    "    for key, value in trial.params.items():\n",
    "        print('    {}: {}'.format(key, value))\n",
    "\n",
    "    best_params[sampler_type] = trial.params\n",
    "\n",
    "    optim_results[sampler_type] = study\n",
    "\n",
    "#     plot_optimization_history(study).show()\n",
    "#     plot_contour(study).show()\n",
    "#     plot_param_importances(study).show()\n",
    "\n",
    "optimisation_time = time.time() - start_time\n"
   ]
  },
  {
   "cell_type": "code",
   "execution_count": null,
   "id": "e750930c-786c-4174-80c2-2e38c127e973",
   "metadata": {},
   "outputs": [],
   "source": [
    "# Produce summary of hyperparameter tuning\n",
    "\n",
    "tuning_summary = pd.DataFrame(columns = \n",
    "                               [\"Sampler\",\n",
    "                               \"Trial\",\n",
    "                               \"f1-score\",\n",
    "                               \"Parameters\"])\n",
    "\n",
    "for sampler, study in optim_results.items():\n",
    "    \n",
    "    tuning_summary.loc[len(tuning_summary.index)] = [\n",
    "        sampler,\n",
    "        int(study.best_trial.number),\n",
    "        study.best_trial.values[0],\n",
    "        study.best_trial.params,\n",
    "    ]\n",
    "\n",
    "    tuning_summary['Trial'] = tuning_summary['Trial'].astype(int)\n",
    "                            \n",
    "time_taken = optimisation_time/60\n",
    "tuning_summary = tuning_summary.round(4)            "
   ]
  },
  {
   "cell_type": "code",
   "execution_count": null,
   "id": "593a1751-71b0-45d6-a69c-9eec9135b1b1",
   "metadata": {},
   "outputs": [],
   "source": [
    "# Re-train XGBoost model with three sampling techniques and tuned hyperparameters\n",
    "\n",
    "%time\n",
    "\n",
    "# Combine train and validation sets to train model on full training set\n",
    "X_train = pd.concat([X_train, X_val], axis = 0)\n",
    "y_train = pd.concat([y_train, y_val], axis = 0)"
   ]
  },
  {
   "cell_type": "code",
   "execution_count": null,
   "id": "15eba974-bd0d-4d5d-8c97-c351f2765384",
   "metadata": {},
   "outputs": [],
   "source": [
    "# Initialise\n",
    "scores = {\"f1\" : []}\n",
    "models, model_metrics = {}, {}\n",
    "seed = 1\n",
    "n_splits = 3\n",
    "sampling_strategies = [\"RandomUnderSampler\", \"RandomOverSampler\", \"SMOTE\"]\n",
    "tuned_params = dict(zip(tuning_summary.Sampler, tuning_summary.Parameters))\n",
    "\n",
    "# Fit model and get predictions and f1 score for three sampling techniques\n",
    "for strategy in sampling_strategies:\n",
    "        \n",
    "        model_name = \"{} + XGBoost\".format(strategy)\n",
    "            \n",
    "        eval_result = {}\n",
    "            \n",
    "        clf = XGBClassifier(**tuned_params[strategy])\n",
    "            \n",
    "        clf.fit(X_train, y_train)\n",
    "        \n",
    "        predictions = clf.predict(X_test)\n",
    "        \n",
    "        f1 = f1_score(y_test, predictions, average = 'micro')\n",
    "        \n",
    "        models[model_name] = clf\n",
    "        model_metrics[model_name] = f1"
   ]
  },
  {
   "cell_type": "code",
   "execution_count": 41,
   "id": "6cfa7081-33bd-44c4-b25a-c9aa56cb8fcb",
   "metadata": {},
   "outputs": [],
   "source": [
    "# Write results to log\n",
    "for idx, model in models.items():\n",
    "    \n",
    "    print(idx)\n",
    "    y_pred = model.predict(X_test)\n",
    "    report_dict = metrics.classification_report(y_test, y_pred, output_dict = True)\n",
    "    cm = confusion_matrix(y_test, y_pred)\n",
    "\n",
    "    display(pd.DataFrame(report_dict).T.round(decimals = 2))\n",
    "\n",
    "    fig, ax = plt.subplots(figsize=(8,8))\n",
    "\n",
    "    sns.heatmap(cm, annot = True, ax = ax, vmin=0, vmax=150, fmt=\"d\", linewidths=.5, linecolor = 'white', cmap=\"Reds\") # annot=True to annotate cells\n",
    "\n",
    "    # labels, title and ticks\n",
    "    ax.set_xlabel('Predicted labels')\n",
    "    ax.set_ylabel('True labels'); \n",
    "    ax.set_title('Confusion Matrix'); \n",
    "    ax.xaxis.set_ticklabels(['Medium Risk','Highest Risk', 'Low Risk', 'High Risk'])\n",
    "    ax.yaxis.set_ticklabels(['Medium Risk','Highest Risk', 'Low Risk', 'High Risk']);\n",
    "\n",
    "    # # This part is to correct a bug from the heatmap funciton from pyplot\n",
    "    # b, t = plt.ylim() # discover the values for bottom and top\n",
    "    # b += 0.5 # Add 0.5 to the bottom\n",
    "    # t -= 0.5 # Subtract 0.5 from the top\n",
    "    # plt.ylim(b, t) # update the ylim(bottom, top) values\n",
    "\n",
    "    plt.show()"
   ]
  },
  {
   "cell_type": "code",
   "execution_count": 42,
   "id": "58dfa0e6-9a59-46f6-af2a-dfbac5a13501",
   "metadata": {},
   "outputs": [],
   "source": [
    "# Plot feature importances\n",
    "for idx, model in models.items():\n",
    "    plot_feature_importances(model, idx, features)"
   ]
  },
  {
   "cell_type": "code",
   "execution_count": null,
   "id": "83189bed-f4fb-4b45-a50d-4cd334aaca48",
   "metadata": {},
   "outputs": [],
   "source": []
  }
 ],
 "metadata": {
  "kernelspec": {
   "display_name": "Python 3 (ipykernel)",
   "language": "python",
   "name": "python3"
  },
  "language_info": {
   "codemirror_mode": {
    "name": "ipython",
    "version": 3
   },
   "file_extension": ".py",
   "mimetype": "text/x-python",
   "name": "python",
   "nbconvert_exporter": "python",
   "pygments_lexer": "ipython3",
   "version": "3.9.7"
  }
 },
 "nbformat": 4,
 "nbformat_minor": 5
}
